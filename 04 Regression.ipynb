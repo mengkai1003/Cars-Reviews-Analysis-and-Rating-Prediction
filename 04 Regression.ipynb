{
 "cells": [
  {
   "cell_type": "markdown",
   "metadata": {},
   "source": [
    "### Import packages"
   ]
  },
  {
   "cell_type": "code",
   "execution_count": 1,
   "metadata": {},
   "outputs": [],
   "source": [
    "import pandas as pd\n",
    "from sklearn.linear_model import LinearRegression\n",
    "from sklearn.metrics import mean_absolute_error\n",
    "from sklearn.tree import DecisionTreeRegressor\n",
    "from sklearn.ensemble import GradientBoostingRegressor\n",
    "from sklearn.neural_network import MLPRegressor\n",
    "from sklearn.model_selection import GridSearchCV\n",
    "from sklearn.ensemble import RandomForestRegressor\n",
    "from sklearn.model_selection import train_test_split\n",
    "import matplotlib.pyplot as plt\n",
    "import warnings"
   ]
  },
  {
   "cell_type": "code",
   "execution_count": 2,
   "metadata": {},
   "outputs": [],
   "source": [
    "warnings.filterwarnings(\"ignore\")"
   ]
  },
  {
   "cell_type": "markdown",
   "metadata": {},
   "source": [
    "### Read data"
   ]
  },
  {
   "cell_type": "code",
   "execution_count": 3,
   "metadata": {},
   "outputs": [
    {
     "data": {
      "text/html": [
       "<div>\n",
       "<style scoped>\n",
       "    .dataframe tbody tr th:only-of-type {\n",
       "        vertical-align: middle;\n",
       "    }\n",
       "\n",
       "    .dataframe tbody tr th {\n",
       "        vertical-align: top;\n",
       "    }\n",
       "\n",
       "    .dataframe thead th {\n",
       "        text-align: right;\n",
       "    }\n",
       "</style>\n",
       "<table border=\"1\" class=\"dataframe\">\n",
       "  <thead>\n",
       "    <tr style=\"text-align: right;\">\n",
       "      <th></th>\n",
       "      <th>Review</th>\n",
       "      <th>Total_star</th>\n",
       "      <th>Value</th>\n",
       "      <th>Size</th>\n",
       "      <th>Comfort_Drive</th>\n",
       "      <th>Interior</th>\n",
       "      <th>Appearance_Exterior</th>\n",
       "      <th>Power_Performance</th>\n",
       "      <th>Safety</th>\n",
       "      <th>Mpg_Efficiency</th>\n",
       "      <th>Maintanence</th>\n",
       "      <th>Index_num</th>\n",
       "    </tr>\n",
       "  </thead>\n",
       "  <tbody>\n",
       "    <tr>\n",
       "      <th>0</th>\n",
       "      <td>I recently traded in my 2017 Honda HR-V in \"Ba...</td>\n",
       "      <td>5</td>\n",
       "      <td>1</td>\n",
       "      <td>1</td>\n",
       "      <td>0</td>\n",
       "      <td>1</td>\n",
       "      <td>1</td>\n",
       "      <td>0</td>\n",
       "      <td>0</td>\n",
       "      <td>1</td>\n",
       "      <td>0</td>\n",
       "      <td>0</td>\n",
       "    </tr>\n",
       "    <tr>\n",
       "      <th>1</th>\n",
       "      <td>Recently purchased a Taos in the base trim (S)...</td>\n",
       "      <td>5</td>\n",
       "      <td>0</td>\n",
       "      <td>0</td>\n",
       "      <td>1</td>\n",
       "      <td>0</td>\n",
       "      <td>0</td>\n",
       "      <td>0</td>\n",
       "      <td>0</td>\n",
       "      <td>1</td>\n",
       "      <td>0</td>\n",
       "      <td>2</td>\n",
       "    </tr>\n",
       "    <tr>\n",
       "      <th>2</th>\n",
       "      <td>This car feels premium and looks handsome.  It...</td>\n",
       "      <td>5</td>\n",
       "      <td>1</td>\n",
       "      <td>0</td>\n",
       "      <td>1</td>\n",
       "      <td>0</td>\n",
       "      <td>1</td>\n",
       "      <td>0</td>\n",
       "      <td>0</td>\n",
       "      <td>0</td>\n",
       "      <td>0</td>\n",
       "      <td>3</td>\n",
       "    </tr>\n",
       "    <tr>\n",
       "      <th>3</th>\n",
       "      <td>Bought the White SEL, love everything about it...</td>\n",
       "      <td>1</td>\n",
       "      <td>0</td>\n",
       "      <td>0</td>\n",
       "      <td>0</td>\n",
       "      <td>0</td>\n",
       "      <td>1</td>\n",
       "      <td>0</td>\n",
       "      <td>1</td>\n",
       "      <td>0</td>\n",
       "      <td>-1</td>\n",
       "      <td>4</td>\n",
       "    </tr>\n",
       "    <tr>\n",
       "      <th>4</th>\n",
       "      <td>The FWD Taos S is a sporty, fun drive. It look...</td>\n",
       "      <td>5</td>\n",
       "      <td>1</td>\n",
       "      <td>1</td>\n",
       "      <td>1</td>\n",
       "      <td>1</td>\n",
       "      <td>0</td>\n",
       "      <td>0</td>\n",
       "      <td>0</td>\n",
       "      <td>0</td>\n",
       "      <td>0</td>\n",
       "      <td>5</td>\n",
       "    </tr>\n",
       "    <tr>\n",
       "      <th>...</th>\n",
       "      <td>...</td>\n",
       "      <td>...</td>\n",
       "      <td>...</td>\n",
       "      <td>...</td>\n",
       "      <td>...</td>\n",
       "      <td>...</td>\n",
       "      <td>...</td>\n",
       "      <td>...</td>\n",
       "      <td>...</td>\n",
       "      <td>...</td>\n",
       "      <td>...</td>\n",
       "      <td>...</td>\n",
       "    </tr>\n",
       "    <tr>\n",
       "      <th>18444</th>\n",
       "      <td>My wife and I recently retired and wanted a ne...</td>\n",
       "      <td>5</td>\n",
       "      <td>1</td>\n",
       "      <td>0</td>\n",
       "      <td>1</td>\n",
       "      <td>1</td>\n",
       "      <td>0</td>\n",
       "      <td>0</td>\n",
       "      <td>0</td>\n",
       "      <td>0</td>\n",
       "      <td>1</td>\n",
       "      <td>27642</td>\n",
       "    </tr>\n",
       "    <tr>\n",
       "      <th>18445</th>\n",
       "      <td>Just bought one yesterday in the SX trim and i...</td>\n",
       "      <td>5</td>\n",
       "      <td>0</td>\n",
       "      <td>0</td>\n",
       "      <td>0</td>\n",
       "      <td>0</td>\n",
       "      <td>0</td>\n",
       "      <td>0</td>\n",
       "      <td>0</td>\n",
       "      <td>0</td>\n",
       "      <td>0</td>\n",
       "      <td>27643</td>\n",
       "    </tr>\n",
       "    <tr>\n",
       "      <th>18446</th>\n",
       "      <td>It is great. Enough room for everyone plus car...</td>\n",
       "      <td>5</td>\n",
       "      <td>0</td>\n",
       "      <td>1</td>\n",
       "      <td>0</td>\n",
       "      <td>0</td>\n",
       "      <td>0</td>\n",
       "      <td>0</td>\n",
       "      <td>0</td>\n",
       "      <td>0</td>\n",
       "      <td>0</td>\n",
       "      <td>27644</td>\n",
       "    </tr>\n",
       "    <tr>\n",
       "      <th>18447</th>\n",
       "      <td>Other than UVO not available in my state is th...</td>\n",
       "      <td>3</td>\n",
       "      <td>0</td>\n",
       "      <td>0</td>\n",
       "      <td>0</td>\n",
       "      <td>0</td>\n",
       "      <td>0</td>\n",
       "      <td>0</td>\n",
       "      <td>0</td>\n",
       "      <td>0</td>\n",
       "      <td>0</td>\n",
       "      <td>27645</td>\n",
       "    </tr>\n",
       "    <tr>\n",
       "      <th>18448</th>\n",
       "      <td>Drives smoothly. Plenty of room</td>\n",
       "      <td>5</td>\n",
       "      <td>0</td>\n",
       "      <td>1</td>\n",
       "      <td>1</td>\n",
       "      <td>0</td>\n",
       "      <td>0</td>\n",
       "      <td>0</td>\n",
       "      <td>0</td>\n",
       "      <td>0</td>\n",
       "      <td>0</td>\n",
       "      <td>27646</td>\n",
       "    </tr>\n",
       "  </tbody>\n",
       "</table>\n",
       "<p>18449 rows × 12 columns</p>\n",
       "</div>"
      ],
      "text/plain": [
       "                                                  Review  Total_star  Value  \\\n",
       "0      I recently traded in my 2017 Honda HR-V in \"Ba...           5      1   \n",
       "1      Recently purchased a Taos in the base trim (S)...           5      0   \n",
       "2      This car feels premium and looks handsome.  It...           5      1   \n",
       "3      Bought the White SEL, love everything about it...           1      0   \n",
       "4      The FWD Taos S is a sporty, fun drive. It look...           5      1   \n",
       "...                                                  ...         ...    ...   \n",
       "18444  My wife and I recently retired and wanted a ne...           5      1   \n",
       "18445  Just bought one yesterday in the SX trim and i...           5      0   \n",
       "18446  It is great. Enough room for everyone plus car...           5      0   \n",
       "18447  Other than UVO not available in my state is th...           3      0   \n",
       "18448                    Drives smoothly. Plenty of room           5      0   \n",
       "\n",
       "       Size  Comfort_Drive  Interior  Appearance_Exterior  Power_Performance  \\\n",
       "0         1              0         1                    1                  0   \n",
       "1         0              1         0                    0                  0   \n",
       "2         0              1         0                    1                  0   \n",
       "3         0              0         0                    1                  0   \n",
       "4         1              1         1                    0                  0   \n",
       "...     ...            ...       ...                  ...                ...   \n",
       "18444     0              1         1                    0                  0   \n",
       "18445     0              0         0                    0                  0   \n",
       "18446     1              0         0                    0                  0   \n",
       "18447     0              0         0                    0                  0   \n",
       "18448     1              1         0                    0                  0   \n",
       "\n",
       "       Safety  Mpg_Efficiency  Maintanence  Index_num  \n",
       "0           0               1            0          0  \n",
       "1           0               1            0          2  \n",
       "2           0               0            0          3  \n",
       "3           1               0           -1          4  \n",
       "4           0               0            0          5  \n",
       "...       ...             ...          ...        ...  \n",
       "18444       0               0            1      27642  \n",
       "18445       0               0            0      27643  \n",
       "18446       0               0            0      27644  \n",
       "18447       0               0            0      27645  \n",
       "18448       0               0            0      27646  \n",
       "\n",
       "[18449 rows x 12 columns]"
      ]
     },
     "execution_count": 3,
     "metadata": {},
     "output_type": "execute_result"
    }
   ],
   "source": [
    "df = pd.read_csv('classifier_output_index.csv')\n",
    "df"
   ]
  },
  {
   "cell_type": "markdown",
   "metadata": {},
   "source": [
    "### Clean data"
   ]
  },
  {
   "cell_type": "code",
   "execution_count": 4,
   "metadata": {
    "scrolled": true
   },
   "outputs": [
    {
     "data": {
      "text/plain": [
       "Review                 object\n",
       "Total_star              int64\n",
       "Value                   int64\n",
       "Size                    int64\n",
       "Comfort_Drive           int64\n",
       "Interior                int64\n",
       "Appearance_Exterior     int64\n",
       "Power_Performance       int64\n",
       "Safety                  int64\n",
       "Mpg_Efficiency          int64\n",
       "Maintanence             int64\n",
       "Index_num               int64\n",
       "dtype: object"
      ]
     },
     "execution_count": 4,
     "metadata": {},
     "output_type": "execute_result"
    }
   ],
   "source": [
    "df.dtypes"
   ]
  },
  {
   "cell_type": "code",
   "execution_count": 5,
   "metadata": {},
   "outputs": [
    {
     "data": {
      "text/plain": [
       "5    10756\n",
       "4     3159\n",
       "1     1658\n",
       "3     1639\n",
       "2     1237\n",
       "Name: Total_star, dtype: int64"
      ]
     },
     "execution_count": 5,
     "metadata": {},
     "output_type": "execute_result"
    }
   ],
   "source": [
    "df[\"Total_star\"].value_counts()"
   ]
  },
  {
   "cell_type": "code",
   "execution_count": 6,
   "metadata": {},
   "outputs": [
    {
     "data": {
      "text/html": [
       "<div>\n",
       "<style scoped>\n",
       "    .dataframe tbody tr th:only-of-type {\n",
       "        vertical-align: middle;\n",
       "    }\n",
       "\n",
       "    .dataframe tbody tr th {\n",
       "        vertical-align: top;\n",
       "    }\n",
       "\n",
       "    .dataframe thead th {\n",
       "        text-align: right;\n",
       "    }\n",
       "</style>\n",
       "<table border=\"1\" class=\"dataframe\">\n",
       "  <thead>\n",
       "    <tr style=\"text-align: right;\">\n",
       "      <th></th>\n",
       "      <th>Total_star</th>\n",
       "      <th>Value</th>\n",
       "      <th>Size</th>\n",
       "      <th>Comfort_Drive</th>\n",
       "      <th>Interior</th>\n",
       "      <th>Appearance_Exterior</th>\n",
       "      <th>Power_Performance</th>\n",
       "      <th>Safety</th>\n",
       "      <th>Mpg_Efficiency</th>\n",
       "      <th>Maintanence</th>\n",
       "      <th>Index_num</th>\n",
       "    </tr>\n",
       "  </thead>\n",
       "  <tbody>\n",
       "    <tr>\n",
       "      <th>count</th>\n",
       "      <td>18449.000000</td>\n",
       "      <td>18449.000000</td>\n",
       "      <td>18449.000000</td>\n",
       "      <td>18449.000000</td>\n",
       "      <td>18449.000000</td>\n",
       "      <td>18449.000000</td>\n",
       "      <td>18449.000000</td>\n",
       "      <td>18449.000000</td>\n",
       "      <td>18449.000000</td>\n",
       "      <td>18449.000000</td>\n",
       "      <td>18449.000000</td>\n",
       "    </tr>\n",
       "    <tr>\n",
       "      <th>mean</th>\n",
       "      <td>4.090466</td>\n",
       "      <td>0.097404</td>\n",
       "      <td>0.104396</td>\n",
       "      <td>0.359965</td>\n",
       "      <td>0.180606</td>\n",
       "      <td>0.095507</td>\n",
       "      <td>0.210472</td>\n",
       "      <td>0.060057</td>\n",
       "      <td>0.167977</td>\n",
       "      <td>-0.122012</td>\n",
       "      <td>14372.884709</td>\n",
       "    </tr>\n",
       "    <tr>\n",
       "      <th>std</th>\n",
       "      <td>1.319388</td>\n",
       "      <td>0.308871</td>\n",
       "      <td>0.331961</td>\n",
       "      <td>0.485617</td>\n",
       "      <td>0.454107</td>\n",
       "      <td>0.298496</td>\n",
       "      <td>0.417249</td>\n",
       "      <td>0.263764</td>\n",
       "      <td>0.381889</td>\n",
       "      <td>0.408360</td>\n",
       "      <td>7978.595799</td>\n",
       "    </tr>\n",
       "    <tr>\n",
       "      <th>min</th>\n",
       "      <td>1.000000</td>\n",
       "      <td>-1.000000</td>\n",
       "      <td>-1.000000</td>\n",
       "      <td>-1.000000</td>\n",
       "      <td>-1.000000</td>\n",
       "      <td>-1.000000</td>\n",
       "      <td>-1.000000</td>\n",
       "      <td>-1.000000</td>\n",
       "      <td>-1.000000</td>\n",
       "      <td>-1.000000</td>\n",
       "      <td>0.000000</td>\n",
       "    </tr>\n",
       "    <tr>\n",
       "      <th>25%</th>\n",
       "      <td>4.000000</td>\n",
       "      <td>0.000000</td>\n",
       "      <td>0.000000</td>\n",
       "      <td>0.000000</td>\n",
       "      <td>0.000000</td>\n",
       "      <td>0.000000</td>\n",
       "      <td>0.000000</td>\n",
       "      <td>0.000000</td>\n",
       "      <td>0.000000</td>\n",
       "      <td>0.000000</td>\n",
       "      <td>7571.000000</td>\n",
       "    </tr>\n",
       "    <tr>\n",
       "      <th>50%</th>\n",
       "      <td>5.000000</td>\n",
       "      <td>0.000000</td>\n",
       "      <td>0.000000</td>\n",
       "      <td>0.000000</td>\n",
       "      <td>0.000000</td>\n",
       "      <td>0.000000</td>\n",
       "      <td>0.000000</td>\n",
       "      <td>0.000000</td>\n",
       "      <td>0.000000</td>\n",
       "      <td>0.000000</td>\n",
       "      <td>14569.000000</td>\n",
       "    </tr>\n",
       "    <tr>\n",
       "      <th>75%</th>\n",
       "      <td>5.000000</td>\n",
       "      <td>0.000000</td>\n",
       "      <td>0.000000</td>\n",
       "      <td>1.000000</td>\n",
       "      <td>0.000000</td>\n",
       "      <td>0.000000</td>\n",
       "      <td>0.000000</td>\n",
       "      <td>0.000000</td>\n",
       "      <td>0.000000</td>\n",
       "      <td>0.000000</td>\n",
       "      <td>21112.000000</td>\n",
       "    </tr>\n",
       "    <tr>\n",
       "      <th>max</th>\n",
       "      <td>5.000000</td>\n",
       "      <td>1.000000</td>\n",
       "      <td>1.000000</td>\n",
       "      <td>1.000000</td>\n",
       "      <td>1.000000</td>\n",
       "      <td>1.000000</td>\n",
       "      <td>1.000000</td>\n",
       "      <td>1.000000</td>\n",
       "      <td>1.000000</td>\n",
       "      <td>1.000000</td>\n",
       "      <td>27646.000000</td>\n",
       "    </tr>\n",
       "  </tbody>\n",
       "</table>\n",
       "</div>"
      ],
      "text/plain": [
       "         Total_star         Value          Size  Comfort_Drive      Interior  \\\n",
       "count  18449.000000  18449.000000  18449.000000   18449.000000  18449.000000   \n",
       "mean       4.090466      0.097404      0.104396       0.359965      0.180606   \n",
       "std        1.319388      0.308871      0.331961       0.485617      0.454107   \n",
       "min        1.000000     -1.000000     -1.000000      -1.000000     -1.000000   \n",
       "25%        4.000000      0.000000      0.000000       0.000000      0.000000   \n",
       "50%        5.000000      0.000000      0.000000       0.000000      0.000000   \n",
       "75%        5.000000      0.000000      0.000000       1.000000      0.000000   \n",
       "max        5.000000      1.000000      1.000000       1.000000      1.000000   \n",
       "\n",
       "       Appearance_Exterior  Power_Performance        Safety  Mpg_Efficiency  \\\n",
       "count         18449.000000       18449.000000  18449.000000    18449.000000   \n",
       "mean              0.095507           0.210472      0.060057        0.167977   \n",
       "std               0.298496           0.417249      0.263764        0.381889   \n",
       "min              -1.000000          -1.000000     -1.000000       -1.000000   \n",
       "25%               0.000000           0.000000      0.000000        0.000000   \n",
       "50%               0.000000           0.000000      0.000000        0.000000   \n",
       "75%               0.000000           0.000000      0.000000        0.000000   \n",
       "max               1.000000           1.000000      1.000000        1.000000   \n",
       "\n",
       "        Maintanence     Index_num  \n",
       "count  18449.000000  18449.000000  \n",
       "mean      -0.122012  14372.884709  \n",
       "std        0.408360   7978.595799  \n",
       "min       -1.000000      0.000000  \n",
       "25%        0.000000   7571.000000  \n",
       "50%        0.000000  14569.000000  \n",
       "75%        0.000000  21112.000000  \n",
       "max        1.000000  27646.000000  "
      ]
     },
     "execution_count": 6,
     "metadata": {},
     "output_type": "execute_result"
    }
   ],
   "source": [
    "df.describe()"
   ]
  },
  {
   "cell_type": "markdown",
   "metadata": {},
   "source": [
    "### Predictors and Response"
   ]
  },
  {
   "cell_type": "code",
   "execution_count": 7,
   "metadata": {},
   "outputs": [],
   "source": [
    "y = df['Total_star']\n",
    "X = df.iloc[:,2:11]"
   ]
  },
  {
   "cell_type": "code",
   "execution_count": 8,
   "metadata": {
    "scrolled": true
   },
   "outputs": [
    {
     "data": {
      "text/plain": [
       "dtype('int64')"
      ]
     },
     "execution_count": 8,
     "metadata": {},
     "output_type": "execute_result"
    }
   ],
   "source": [
    "y.dtypes"
   ]
  },
  {
   "cell_type": "code",
   "execution_count": 9,
   "metadata": {
    "scrolled": true
   },
   "outputs": [
    {
     "data": {
      "text/plain": [
       "Value                  int64\n",
       "Size                   int64\n",
       "Comfort_Drive          int64\n",
       "Interior               int64\n",
       "Appearance_Exterior    int64\n",
       "Power_Performance      int64\n",
       "Safety                 int64\n",
       "Mpg_Efficiency         int64\n",
       "Maintanence            int64\n",
       "dtype: object"
      ]
     },
     "execution_count": 9,
     "metadata": {},
     "output_type": "execute_result"
    }
   ],
   "source": [
    "X.dtypes"
   ]
  },
  {
   "cell_type": "code",
   "execution_count": 10,
   "metadata": {},
   "outputs": [],
   "source": [
    "X_train, X_test, y_train, y_test = train_test_split(X,y,train_size=0.7, random_state=1)"
   ]
  },
  {
   "cell_type": "markdown",
   "metadata": {},
   "source": [
    "### Regression models"
   ]
  },
  {
   "cell_type": "markdown",
   "metadata": {},
   "source": [
    "##### Linear Regression"
   ]
  },
  {
   "cell_type": "code",
   "execution_count": 11,
   "metadata": {
    "scrolled": true
   },
   "outputs": [],
   "source": [
    "def linear_Regression(X,y):    \n",
    "    model = LinearRegression()\n",
    "    model.fit(X,y)\n",
    "    y_pred = model.predict(X)\n",
    "    R2 = model.score(X,y)\n",
    "    MAE = mean_absolute_error(y, y_pred)\n",
    "    print(\"R square for train set: \", R2)\n",
    "    print(\"MAE for train set: \", MAE)\n",
    "    return model"
   ]
  },
  {
   "cell_type": "markdown",
   "metadata": {},
   "source": [
    "##### Decision Tree"
   ]
  },
  {
   "cell_type": "code",
   "execution_count": 12,
   "metadata": {},
   "outputs": [],
   "source": [
    "def DecisionTree_Regressor(X,y):\n",
    "    model = DecisionTreeRegressor(random_state=0)\n",
    "    params = {'max_depth':[i for i in range(3,30)]}\n",
    "    grid = GridSearchCV(model, param_grid = params, cv = 5)\n",
    "    grid.fit(X,y)\n",
    "    print(grid.best_params_)\n",
    "\n",
    "    y_pred = grid.predict(X)\n",
    "    R2 = grid.score(X,y)\n",
    "    MAE = mean_absolute_error(y, y_pred)\n",
    "    print(\"R square for train set: \", R2)\n",
    "    print(\"MAE for train set: \", MAE)\n",
    "    return grid"
   ]
  },
  {
   "cell_type": "markdown",
   "metadata": {},
   "source": [
    "##### Random Forest"
   ]
  },
  {
   "cell_type": "code",
   "execution_count": 13,
   "metadata": {},
   "outputs": [],
   "source": [
    "def Random_Forest(X,y):\n",
    "    model = RandomForestRegressor(random_state=0)\n",
    "    params = {'n_estimators':[75,100,125],\n",
    "              'max_features':['auto', 'sqrt'], \n",
    "              'max_depth':[i for i in range(3,10)]}\n",
    "    grid = GridSearchCV(model, param_grid = params, cv = 5)\n",
    "    grid.fit(X.values,y)\n",
    "    print(grid.best_params_)\n",
    "    \n",
    "    y_pred = grid.predict(X.values)\n",
    "    R2 = grid.score(X.values,y)\n",
    "    MAE = mean_absolute_error(y, y_pred)\n",
    "    print(\"R square for train set: \", R2)\n",
    "    print(\"MAE for train set: \", MAE)\n",
    "    return grid"
   ]
  },
  {
   "cell_type": "markdown",
   "metadata": {},
   "source": [
    "##### GBDT"
   ]
  },
  {
   "cell_type": "code",
   "execution_count": 14,
   "metadata": {},
   "outputs": [],
   "source": [
    "def GBDT(X,y):\n",
    "    model = GradientBoostingRegressor(random_state=0)\n",
    "    model.fit(X,y)\n",
    "\n",
    "    y_pred = model.predict(X)\n",
    "    R2 = model.score(X,y)\n",
    "    MAE = mean_absolute_error(y, y_pred)\n",
    "    print(\"R square for train set: \", R2)\n",
    "    print(\"MAE for train set: \", MAE)\n",
    "    return model"
   ]
  },
  {
   "cell_type": "code",
   "execution_count": 15,
   "metadata": {},
   "outputs": [],
   "source": [
    "R_squares = []"
   ]
  },
  {
   "cell_type": "markdown",
   "metadata": {},
   "source": [
    "# Result for Linear Equation"
   ]
  },
  {
   "cell_type": "code",
   "execution_count": 16,
   "metadata": {},
   "outputs": [
    {
     "name": "stdout",
     "output_type": "stream",
     "text": [
      "R square for train set:  0.24952165959622907\n",
      "MAE for train set:  0.9018986411854876\n",
      "--------------------------------------------------\n",
      "R squared for test set:  0.22515771105163795\n",
      "Coefficients:  [0.27341201 0.16133098 0.51853215 0.16826508 0.13120592 0.16332377\n",
      " 0.2511444  0.23124762 1.13040901]\n",
      "Intercepts:  3.8670388203063926\n"
     ]
    }
   ],
   "source": [
    "lr = linear_Regression(X_train,y_train)\n",
    "print(\"-\"*50)\n",
    "print('R squared for test set: ',lr.score(X_test,y_test))\n",
    "R_squares.append(lr.score(X_test,y_test))\n",
    "lr_all = LinearRegression()\n",
    "lr_all.fit(X,y)\n",
    "print(\"Coefficients: \", lr_all.coef_)\n",
    "print(\"Intercepts: \", lr_all.intercept_)"
   ]
  },
  {
   "cell_type": "markdown",
   "metadata": {},
   "source": [
    "# Result for Decision Tree"
   ]
  },
  {
   "cell_type": "code",
   "execution_count": 17,
   "metadata": {},
   "outputs": [
    {
     "name": "stdout",
     "output_type": "stream",
     "text": [
      "{'max_depth': 8}\n",
      "R square for train set:  0.30232997271318407\n",
      "MAE for train set:  0.8381510884764773\n",
      "--------------------------------------------------\n",
      "R squared for test set:  0.2501921678411497\n",
      "Feature Importance:  [0.02557482 0.01789653 0.1708768  0.0316319  0.00908722 0.02716872\n",
      " 0.00706336 0.0308719  0.67982873]\n"
     ]
    }
   ],
   "source": [
    "dt = DecisionTree_Regressor(X_train,y_train)\n",
    "print(\"-\"*50)\n",
    "print('R squared for test set: ',dt.score(X_test,y_test))\n",
    "dt_fi = dt.best_estimator_.feature_importances_\n",
    "print('Feature Importance: ',dt_fi)\n",
    "R_squares.append(dt.score(X_test,y_test))"
   ]
  },
  {
   "cell_type": "markdown",
   "metadata": {},
   "source": [
    "# Result for Random Forest"
   ]
  },
  {
   "cell_type": "code",
   "execution_count": 18,
   "metadata": {},
   "outputs": [
    {
     "name": "stdout",
     "output_type": "stream",
     "text": [
      "{'max_depth': 8, 'max_features': 'sqrt', 'n_estimators': 125}\n",
      "R square for train set:  0.3052328734950568\n",
      "MAE for train set:  0.8468293128083894\n",
      "--------------------------------------------------\n",
      "R squared for test set:  0.26144002065731364\n",
      "Feature Importance:  [0.03067045 0.03201138 0.21171438 0.04059471 0.01534402 0.04076603\n",
      " 0.01142127 0.0340631  0.58341465]\n"
     ]
    }
   ],
   "source": [
    "rf = Random_Forest(X_train,y_train)\n",
    "print(\"-\"*50)\n",
    "print('R squared for test set: ',rf.score(X_test,y_test))\n",
    "rf_fi = rf.best_estimator_.feature_importances_\n",
    "print('Feature Importance: ',rf_fi)\n",
    "R_squares.append(rf.score(X_test,y_test))"
   ]
  },
  {
   "cell_type": "markdown",
   "metadata": {},
   "source": [
    "# Result for Gradient Boosting"
   ]
  },
  {
   "cell_type": "code",
   "execution_count": 19,
   "metadata": {},
   "outputs": [
    {
     "name": "stdout",
     "output_type": "stream",
     "text": [
      "R square for train set:  0.3018961477143771\n",
      "MAE for train set:  0.845488517162971\n",
      "--------------------------------------------------\n",
      "R squared for test set:  0.2650119760990052\n",
      "Feature Importance:  [0.02453717 0.01871398 0.17536796 0.02805954 0.0116054  0.02652404\n",
      " 0.0086159  0.02834639 0.6782296 ]\n"
     ]
    }
   ],
   "source": [
    "gbdt = GBDT(X_train,y_train)\n",
    "print(\"-\"*50)\n",
    "print('R squared for test set: ',gbdt.score(X_test,y_test))\n",
    "gbdt_fi = gbdt.feature_importances_\n",
    "print('Feature Importance: ',gbdt_fi)\n",
    "R_squares.append(gbdt.score(X_test,y_test))"
   ]
  },
  {
   "cell_type": "markdown",
   "metadata": {},
   "source": [
    "## R squared chart"
   ]
  },
  {
   "cell_type": "code",
   "execution_count": 20,
   "metadata": {},
   "outputs": [],
   "source": [
    "df_R = pd.DataFrame(R_squares,index = ['Linear Regression','Decision Tree','Random Forest','Gradient Boosting'], columns=['R^2'])"
   ]
  },
  {
   "cell_type": "code",
   "execution_count": 67,
   "metadata": {},
   "outputs": [
    {
     "data": {
      "text/html": [
       "<div>\n",
       "<style scoped>\n",
       "    .dataframe tbody tr th:only-of-type {\n",
       "        vertical-align: middle;\n",
       "    }\n",
       "\n",
       "    .dataframe tbody tr th {\n",
       "        vertical-align: top;\n",
       "    }\n",
       "\n",
       "    .dataframe thead th {\n",
       "        text-align: right;\n",
       "    }\n",
       "</style>\n",
       "<table border=\"1\" class=\"dataframe\">\n",
       "  <thead>\n",
       "    <tr style=\"text-align: right;\">\n",
       "      <th></th>\n",
       "      <th>R^2</th>\n",
       "    </tr>\n",
       "  </thead>\n",
       "  <tbody>\n",
       "    <tr>\n",
       "      <th>Linear Regression</th>\n",
       "      <td>0.225158</td>\n",
       "    </tr>\n",
       "    <tr>\n",
       "      <th>Decision Tree</th>\n",
       "      <td>0.250192</td>\n",
       "    </tr>\n",
       "    <tr>\n",
       "      <th>Random Forest</th>\n",
       "      <td>0.261440</td>\n",
       "    </tr>\n",
       "    <tr>\n",
       "      <th>Gradient Boosting</th>\n",
       "      <td>0.265012</td>\n",
       "    </tr>\n",
       "  </tbody>\n",
       "</table>\n",
       "</div>"
      ],
      "text/plain": [
       "                        R^2\n",
       "Linear Regression  0.225158\n",
       "Decision Tree      0.250192\n",
       "Random Forest      0.261440\n",
       "Gradient Boosting  0.265012"
      ]
     },
     "execution_count": 67,
     "metadata": {},
     "output_type": "execute_result"
    }
   ],
   "source": [
    "df_R"
   ]
  },
  {
   "cell_type": "markdown",
   "metadata": {},
   "source": [
    "# Feature importance for Decision Tree\n"
   ]
  },
  {
   "cell_type": "code",
   "execution_count": null,
   "metadata": {},
   "outputs": [],
   "source": [
    "df_importance = pd.DataFrame(100*dt_fi,\n",
    "                   index = X.columns,\n",
    "                   columns=['importance'])\n",
    "df_importance = df_importance.sort_values(by = 'importance',axis=0,\n",
    "                      ascending=False)\n",
    "df_importance"
   ]
  },
  {
   "cell_type": "code",
   "execution_count": null,
   "metadata": {},
   "outputs": [],
   "source": [
    "plt.bar(df_importance.index, df_importance['importance'], width=0.5)\n",
    "plt.xticks(rotation=90)\n",
    "plt.yticks(rotation=90)"
   ]
  },
  {
   "cell_type": "markdown",
   "metadata": {},
   "source": [
    "# Feature importance for Random Forest"
   ]
  },
  {
   "cell_type": "code",
   "execution_count": null,
   "metadata": {},
   "outputs": [],
   "source": [
    "df_importance = pd.DataFrame(100*rf_fi,\n",
    "                   index = X.columns,\n",
    "                   columns=['importance'])\n",
    "df_importance = df_importance.sort_values(by = 'importance',axis=0,\n",
    "                      ascending=False)\n",
    "df_importance"
   ]
  },
  {
   "cell_type": "code",
   "execution_count": null,
   "metadata": {},
   "outputs": [],
   "source": [
    "plt.bar(df_importance.index, df_importance['importance'], width=0.5)\n",
    "plt.xticks(rotation=90)\n",
    "plt.yticks(rotation=90)"
   ]
  },
  {
   "cell_type": "markdown",
   "metadata": {},
   "source": [
    "# Feature Importance for Gradient Boosting"
   ]
  },
  {
   "cell_type": "code",
   "execution_count": null,
   "metadata": {},
   "outputs": [],
   "source": [
    "df_importance = pd.DataFrame(100*gbdt_fi,\n",
    "                   index = X.columns,\n",
    "                   columns=['importance'])\n",
    "df_importance = df_importance.sort_values(by = 'importance',axis=0,\n",
    "                      ascending=False)\n",
    "df_importance"
   ]
  },
  {
   "cell_type": "code",
   "execution_count": null,
   "metadata": {},
   "outputs": [],
   "source": [
    "plt.bar(df_importance.index, df_importance['importance'], width=0.5)\n",
    "plt.xticks(rotation=90)\n",
    "plt.yticks(rotation=90)"
   ]
  },
  {
   "cell_type": "markdown",
   "metadata": {},
   "source": [
    "### Validation using the ratings on Edmunds"
   ]
  },
  {
   "cell_type": "code",
   "execution_count": null,
   "metadata": {},
   "outputs": [],
   "source": [
    "df1 = pd.read_csv(\"data_cleaned.csv\")"
   ]
  },
  {
   "cell_type": "code",
   "execution_count": null,
   "metadata": {},
   "outputs": [],
   "source": [
    "X = df1.iloc[:,8:15]\n",
    "y = df1[\"Total_star\"]"
   ]
  },
  {
   "cell_type": "code",
   "execution_count": null,
   "metadata": {},
   "outputs": [],
   "source": [
    "y.value_counts()"
   ]
  },
  {
   "cell_type": "code",
   "execution_count": null,
   "metadata": {},
   "outputs": [],
   "source": [
    "X.describe()"
   ]
  },
  {
   "cell_type": "code",
   "execution_count": null,
   "metadata": {},
   "outputs": [],
   "source": [
    "DecisionTree_Regressor(X,y)"
   ]
  }
 ],
 "metadata": {
  "kernelspec": {
   "display_name": "Python 3",
   "language": "python",
   "name": "python3"
  },
  "language_info": {
   "codemirror_mode": {
    "name": "ipython",
    "version": 3
   },
   "file_extension": ".py",
   "mimetype": "text/x-python",
   "name": "python",
   "nbconvert_exporter": "python",
   "pygments_lexer": "ipython3",
   "version": "3.8.3"
  }
 },
 "nbformat": 4,
 "nbformat_minor": 4
}
